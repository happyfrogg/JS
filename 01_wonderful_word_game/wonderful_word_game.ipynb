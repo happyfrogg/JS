{
 "cells": [
  {
   "cell_type": "markdown",
   "id": "e296e3b4",
   "metadata": {},
   "source": [
    "# 유사한 단어 찾기 게임"
   ]
  },
  {
   "cell_type": "markdown",
   "id": "567a4acb",
   "metadata": {},
   "source": [
    "1. 사전 학습된 모델 또는 적절한 데이터셋을 찾는다\n",
    "2. 워드 임베딩 모델을 학습시킨다\n",
    "3. 단어 유사도가 0.8 이상인 A, B를 랜덤 추출한다\n",
    "4. A, B와 대응되는 C를 추출한다\n",
    "5. D를 입력받는다\n",
    "\n",
    "=>\n",
    "A:B = C:D 관계에 대응하는 D를 찾는 게임을 만든다\n",
    "ex) A: 산, B: 바다, C: 나무, D: 물"
   ]
  },
  {
   "cell_type": "markdown",
   "id": "e7a0282c",
   "metadata": {},
   "source": [
    "**<출력 예시>**\n",
    "\n",
    "관계 [ 수긍 : 추락 = 대사관 : ? ] <br>\n",
    "모델이 예측한 가장 적합한 단어 : 잠입 <br>\n",
    "당신의 답변과 모델 예측의 유사도 : 0.34 <br>\n",
    "아쉽네요. 더 생각해보세요."
   ]
  },
  {
   "cell_type": "code",
   "execution_count": 1,
   "id": "66a12197",
   "metadata": {},
   "outputs": [],
   "source": [
    "# !pip install eunjeon"
   ]
  },
  {
   "cell_type": "code",
   "execution_count": null,
   "id": "c00ec9a5",
   "metadata": {},
   "outputs": [
    {
     "name": "stderr",
     "output_type": "stream",
     "text": [
      "WARNING: Requirement 'mecab-python3_ko_0.92_msvc-cp38-win_amd64.whl' looks like a filename, but the file does not exist\n",
      "ERROR: Invalid wheel filename (wrong number of parts): 'mecab-python3_ko_0.92_msvc-cp38-win_amd64'\n"
     ]
    }
   ],
   "source": [
    "# !pip install mecab-python3_ko_0.92_msvc-cp38-win_amd64.whl"
   ]
  },
  {
   "cell_type": "code",
   "execution_count": 3,
   "id": "37330c0c",
   "metadata": {},
   "outputs": [],
   "source": [
    "# from Korpora import Korpora\n",
    "# Korpora.fetch(\"kcbert\", force_download=True)"
   ]
  },
  {
   "cell_type": "code",
   "execution_count": 4,
   "id": "9977d742",
   "metadata": {},
   "outputs": [],
   "source": [
    "import os\n",
    "from Korpora import Korpora\n",
    "\n",
    "korpora_path = os.path.expanduser(\"~\\\\Korpora\\\\namuwikitext\\\\namuwikitext_20200302.dev\")\n",
    "texts = []\n",
    "\n",
    "with open(korpora_path, 'r', encoding='utf-8') as f:\n",
    "    for line in f:\n",
    "        texts.append(line.strip())"
   ]
  },
  {
   "cell_type": "code",
   "execution_count": 7,
   "id": "7f93c7b9",
   "metadata": {},
   "outputs": [
    {
     "name": "stderr",
     "output_type": "stream",
     "text": [
      "100%|██████████| 153605/153605 [53:32<00:00, 47.82it/s]  \n"
     ]
    },
    {
     "name": "stdout",
     "output_type": "stream",
     "text": [
      "전처리 완료 및 저장됨\n",
      "[['에일', '에일리언', '리언'], ['에이', '에이리언', '주년', '공개', '단편', '목성형', '행성', '우주선', '하나', '폭발', '동강', '직전', '탈출', '탈출정', '탑승', '인원', '한명', '체스트', '버스터', '바람', '몰살', '줄거리', '스포일러', '혼수', '혼수상태', '상태', '산소', '산소마스크', '마스크', '사람', '쿠키', '쿠키영상', '영상', '생채기', '의식', '주변', '난장판'], ['참고', '우연', '일치', '트라', '단어', '자체', '에이', '에이리언', '커버넌트', '유사'], ['개요'], ['에서', '롤플레', '게임', '모바일', '출시', '로도']]\n"
     ]
    }
   ],
   "source": [
    "from konlpy.tag import Okt, Kkma\n",
    "import re\n",
    "from tqdm import tqdm\n",
    "import pickle\n",
    "\n",
    "preprocess_data = []\n",
    "kkma = Kkma()\n",
    "ko_stopwords = ['은', '는', '이', '가', '을', '를', '과', '와', '들', '도', '부터', '까지', '에', '나', '너', '그', '걔', '얘', '로서', '때문', '병림픽', '때문', '경우', '이후']\n",
    "\n",
    "for sentence in tqdm(texts):\n",
    "    cleaned_sentence = re.sub(r'[^가-힣\\s]', '', sentence)\n",
    "    nouns = kkma.nouns(cleaned_sentence)\n",
    "    filtered_nouns = [word for word in nouns if word not in ko_stopwords and len(word) > 1]\n",
    "    if filtered_nouns:\n",
    "        preprocess_data.append(filtered_nouns)\n",
    "\n",
    "# 전처리 데이터 저장\n",
    "with open(\"preprocess_data.pkl\", \"wb\") as f:\n",
    "    pickle.dump(preprocess_data, f)\n",
    "\n",
    "print(\"전처리 완료 및 저장됨\")\n",
    "\n",
    "print(preprocess_data[:5])"
   ]
  },
  {
   "cell_type": "code",
   "execution_count": 8,
   "id": "474bf057",
   "metadata": {},
   "outputs": [],
   "source": [
    "from gensim.models import Word2Vec, FastText\n",
    "\n",
    "with open(\"preprocess_data.pkl\", \"rb\") as f:\n",
    "    preprocess_data = pickle.load(f)\n",
    "\n",
    "model = FastText(\n",
    "    sentences=preprocess_data, \n",
    "    vector_size=100,\n",
    "    window=5,\n",
    "    min_count=1,\n",
    "    sg=1  \n",
    ")\n",
    "\n",
    "model.save(\"namu_fasttext_dev.model\")"
   ]
  },
  {
   "cell_type": "code",
   "execution_count": 9,
   "id": "f82bc630",
   "metadata": {},
   "outputs": [
    {
     "name": "stdout",
     "output_type": "stream",
     "text": [
      "140078\n",
      "['자신', '사람', '정도', '사용', '등장']\n"
     ]
    }
   ],
   "source": [
    "vocab = model.wv.index_to_key\n",
    "print(len(vocab))\n",
    "print(vocab[:5])"
   ]
  },
  {
   "cell_type": "code",
   "execution_count": 15,
   "id": "8e750238",
   "metadata": {},
   "outputs": [
    {
     "name": "stdout",
     "output_type": "stream",
     "text": [
      "관계 [ 효복 : 요마 = 박스오피스 : ? ]\n",
      "모델이 예측한 가장 적합한 단어: '오피스'\n",
      "당신의 답변과 모델 예측의 유사도: 영화, 0.52\n",
      "아쉽네요. 더 생각해보세요.\n"
     ]
    }
   ],
   "source": [
    "import random\n",
    "\n",
    "def get_words(threshold=0.8):\n",
    "        for _ in range(10000):\n",
    "                a = random.choice(vocab)\n",
    "                b = random.choice(vocab)\n",
    "                if model.wv.similarity(a, b) >= threshold and a != b:\n",
    "                        return a, b\n",
    "        return None, None\n",
    "\n",
    "def find_word_game(threshold=0.8):\n",
    "        a, b = get_words(threshold=threshold)\n",
    "        if a is None or b is None:\n",
    "                print(\"a, b를 찾을 수 없습니다.\")\n",
    "                return\n",
    "\n",
    "        c = random.choice(vocab)\n",
    "        print(f\"관계 [ {a} : {b} = {c} : ? ]\")\n",
    "    \n",
    "        user_guess = input(\"예상 단어 입력\").strip()\n",
    "\n",
    "        d_answer = model.wv.most_similar(positive=[b, c], negative=[a], topn=1)[0][0]\n",
    "\n",
    "        similarity = model.wv.similarity(user_guess, d_answer)\n",
    "\n",
    "        print(f\"모델이 예측한 가장 적합한 단어: '{d_answer}'\")\n",
    "        print(f\"당신의 답변과 모델 예측의 유사도: {user_guess}, {similarity:.2f}\")\n",
    "        if similarity > 0.8:\n",
    "                print(\"정답에 가깝습니다.\")\n",
    "        else:\n",
    "                print(\"아쉽네요. 더 생각해보세요.\")\n",
    "\n",
    "find_word_game() "
   ]
  }
 ],
 "metadata": {
  "kernelspec": {
   "display_name": "nlp_env",
   "language": "python",
   "name": "python3"
  },
  "language_info": {
   "codemirror_mode": {
    "name": "ipython",
    "version": 3
   },
   "file_extension": ".py",
   "mimetype": "text/x-python",
   "name": "python",
   "nbconvert_exporter": "python",
   "pygments_lexer": "ipython3",
   "version": "3.12.11"
  }
 },
 "nbformat": 4,
 "nbformat_minor": 5
}
